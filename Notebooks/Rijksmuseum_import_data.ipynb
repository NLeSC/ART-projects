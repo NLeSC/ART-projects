{
 "cells": [
  {
   "cell_type": "markdown",
   "metadata": {},
   "source": [
    "Packages and folders"
   ]
  },
  {
   "cell_type": "code",
   "execution_count": 6,
   "metadata": {},
   "outputs": [],
   "source": [
    "ROOT = \"C:\\\\OneDrive - Netherlands eScience Center\\\\Project_Art\\\\ART-projects\\\\\"\n",
    "PATH_images = ROOT + \"\"\n",
    "PATH_metadata = ROOT + \"Data\\\\rijksxml\\\\\"\n"
   ]
  },
  {
   "cell_type": "code",
   "execution_count": 11,
   "metadata": {},
   "outputs": [],
   "source": [
    "import numpy\n",
    "import os\n",
    "import csv \n",
    "import xml.etree.ElementTree as ET \n",
    "import fnmatch"
   ]
  },
  {
   "cell_type": "code",
   "execution_count": 12,
   "metadata": {},
   "outputs": [],
   "source": [
    "dirs = os.listdir(PATH_metadata)\n",
    "xml_files = fnmatch.filter(dirs, \"*.xml\")"
   ]
  },
  {
   "cell_type": "code",
   "execution_count": 14,
   "metadata": {},
   "outputs": [
    {
     "data": {
      "text/plain": [
       "['0000001_SK-A-4878.xml',\n",
       " '0000002_SK-A-4877.xml',\n",
       " '0000003_SK-A-4881.xml',\n",
       " '0000004_RP-P-1992-35.xml',\n",
       " '0000005_RP-P-1992-36.xml',\n",
       " '0000006_RP-P-1992-68.xml',\n",
       " '0000007_RP-P-1992-80.xml',\n",
       " '0000008_RP-P-1992-70.xml',\n",
       " '0000009_BK-NM-4821.xml',\n",
       " '0000010_BK-NM-10025.xml']"
      ]
     },
     "execution_count": 14,
     "metadata": {},
     "output_type": "execute_result"
    }
   ],
   "source": [
    "xml_files[:10]"
   ]
  },
  {
   "cell_type": "markdown",
   "metadata": {},
   "source": [
    "## Import metadata\n",
    "I had issues using standard XML importers (mostly due to special charcters).  \n",
    "So here a simple importer function to extract the metadata."
   ]
  },
  {
   "cell_type": "code",
   "execution_count": 203,
   "metadata": {},
   "outputs": [],
   "source": [
    "def weird_xml_reader(filename):\n",
    "    \"\"\"\n",
    "    Clumsy, handwritten importer function...\n",
    "    \"\"\"\n",
    "    material = []\n",
    "    art_type = []\n",
    "    technique = []\n",
    "    date = []\n",
    "    with open(filename, \"r\", errors='replace') as xmlfile:\n",
    "        for i, line in enumerate(xmlfile):\n",
    "            if '<dc:format>materiaal' in line: \n",
    "                material.append(line.rstrip().split('<dc:format>')[1].split('</dc:format>')[0].split(' ')[1])\n",
    "            if '<dc:format>techniek' in line: \n",
    "                technique.append(line.rstrip().split('<dc:format>')[1].split('</dc:format>')[0].split(' ')[1])\n",
    "            if '<dc:date>' in line: \n",
    "                date.append(line.rstrip().split('<dc:date>')[1].split('</dc:date>')[0])\n",
    "            if '<dc:type>' in line: \n",
    "                art_type.append(line.rstrip().split('<dc:type>')[1].split('</dc:type>')[0])\n",
    "                \n",
    "    return material, art_type, technique, date             "
   ]
  },
  {
   "cell_type": "code",
   "execution_count": 190,
   "metadata": {},
   "outputs": [
    {
     "data": {
      "text/plain": [
       "(['aardewerk'], ['drinkgerei', 'bokaal'], [], ['-2000 -  -1000'])"
      ]
     },
     "execution_count": 190,
     "metadata": {},
     "output_type": "execute_result"
    }
   ],
   "source": [
    "weird_xml_reader(PATH_metadata + xml_files[16])"
   ]
  },
  {
   "cell_type": "markdown",
   "metadata": {},
   "source": [
    "### Collect metadata from all files"
   ]
  },
  {
   "cell_type": "code",
   "execution_count": 204,
   "metadata": {},
   "outputs": [],
   "source": [
    "list_metadata = []\n",
    "\n",
    "for i, file in enumerate(xml_files):\n",
    "    list_metadata.append(weird_xml_reader(PATH_metadata + file))"
   ]
  },
  {
   "cell_type": "code",
   "execution_count": 205,
   "metadata": {},
   "outputs": [
    {
     "data": {
      "text/plain": [
       "112039"
      ]
     },
     "execution_count": 205,
     "metadata": {},
     "output_type": "execute_result"
    }
   ],
   "source": [
    "len(list_metadata)"
   ]
  },
  {
   "cell_type": "code",
   "execution_count": 206,
   "metadata": {},
   "outputs": [],
   "source": [
    "list_material, list_art_type, list_technique, list_date = zip(*list_metadata)"
   ]
  },
  {
   "cell_type": "markdown",
   "metadata": {},
   "source": [
    "### Materials"
   ]
  },
  {
   "cell_type": "code",
   "execution_count": 209,
   "metadata": {},
   "outputs": [
    {
     "data": {
      "text/plain": [
       "(['olieverf', 'doek'],\n",
       " ['papier', 'olieverf', 'hout'],\n",
       " ['olieverf', 'doek'],\n",
       " ['papier', 'dekverf'],\n",
       " ['papier', 'dekverf'],\n",
       " ['papier'],\n",
       " ['papier'],\n",
       " ['papier'],\n",
       " ['steengoed', 'glazuur'],\n",
       " ['steengoed', 'glazuur'])"
      ]
     },
     "execution_count": 209,
     "metadata": {},
     "output_type": "execute_result"
    }
   ],
   "source": [
    "list_material[:10]"
   ]
  },
  {
   "cell_type": "code",
   "execution_count": 223,
   "metadata": {},
   "outputs": [],
   "source": [
    "unique_materials = []\n",
    "#flatten the list\n",
    "for x in list_material:\n",
    "    for y in x:\n",
    "        unique_materials.append(y)\n",
    "\n",
    "unique_materials = list(set(unique_materials))"
   ]
  },
  {
   "cell_type": "code",
   "execution_count": 224,
   "metadata": {},
   "outputs": [
    {
     "name": "stdout",
     "output_type": "stream",
     "text": [
      "Number of found categories:  405\n"
     ]
    }
   ],
   "source": [
    "print(\"Number of found categories: \",len(unique_materials))"
   ]
  },
  {
   "cell_type": "code",
   "execution_count": 227,
   "metadata": {
    "scrolled": true
   },
   "outputs": [
    {
     "name": "stdout",
     "output_type": "stream",
     "text": [
      "['', 'drukinkt', 'koord', 'bombazijn', 'dekverf', 'zilverdraad', 'mineraal', 'celluloid', 'schelp', 'velijn', 'vuursteen', 'bruinharthout', 'chalcedoon', 'Delfts', 'wilgenhout', 'eigeel', 'soft', 'gouache', 'inkt', 'citrien', 'sentoku', 'email', 'fotopapier', 'bladzilver', 'lijm', 'gaas', 'knobbelhoorn', 'solnhofersteen', 'verf', 'roggenvel', 'rijstpapier', 'kastoor', 'aluminium', 'amboinahout', 'hardboard', 'ei', 'haaienvel', 'huid', 'crÃªpepapier', 'palissanderhout', 'pen', 'zeildoek', 'notenhout', 'peper', 'hertshoorn', 'goudpoeder', 'luster', 'watten', 'molton', 'smaragd', 'rijstpasta', 'lapis', 'naaldhout', 'ijzerdraad', 'slak', 'cipressenhout', 'spaanplaat', 'katoen', 'campÃªchehout', 'kurk', 'barnsteen', 'cederhout', 'toetssteen', 'chenille', 'metaal', 'vloszijde', 'meerschuim', 'tule', 'palmhout', 'kalksteen', 'tand', 'koper', 'lindehout', 'strohalm', 'waterverf', 'kobalt', 'fluweel', 'garen', 'ijzer', 'samiet', 'palmblad', 'zandsteen', 'maansteen', 'stopverf', 'spiegelglas', 'hardhout', 'kalfsleer', 'zaagsel', 'buffelleer', 'wortelhout', 'malachiet', 'vernis', 'coromandelhout', 'berberishout', 'kardoespapier', 'mattenbies', 'been', 'hout', 'papier-machÃ©', 'chine']\n"
     ]
    }
   ],
   "source": [
    "print(unique_materials[:100])"
   ]
  },
  {
   "cell_type": "markdown",
   "metadata": {},
   "source": [
    "### Art type"
   ]
  },
  {
   "cell_type": "code",
   "execution_count": 228,
   "metadata": {},
   "outputs": [
    {
     "data": {
      "text/plain": [
       "(['schilderij'],\n",
       " ['schilderij'],\n",
       " ['schilderij'],\n",
       " ['prent', 'historieprent'],\n",
       " ['prent', 'historieprent'],\n",
       " ['prent'],\n",
       " ['prent'],\n",
       " ['prent'],\n",
       " ['stortebeker'],\n",
       " ['kruik'])"
      ]
     },
     "execution_count": 228,
     "metadata": {},
     "output_type": "execute_result"
    }
   ],
   "source": [
    "list_art_type[:10]"
   ]
  },
  {
   "cell_type": "code",
   "execution_count": 229,
   "metadata": {},
   "outputs": [],
   "source": [
    "unique_art_types = []\n",
    "#flatten the list\n",
    "for x in list_art_type:\n",
    "    for y in x:\n",
    "        unique_art_types.append(y)\n",
    "\n",
    "unique_art_types = list(set(unique_art_types))"
   ]
  },
  {
   "cell_type": "code",
   "execution_count": 230,
   "metadata": {},
   "outputs": [
    {
     "name": "stdout",
     "output_type": "stream",
     "text": [
      "Number of found categories:  1822\n"
     ]
    }
   ],
   "source": [
    "print(\"Number of found categories: \",len(unique_art_types))"
   ]
  },
  {
   "cell_type": "code",
   "execution_count": 231,
   "metadata": {
    "scrolled": true
   },
   "outputs": [
    {
     "name": "stdout",
     "output_type": "stream",
     "text": [
      "['koord', 'scheepskompas', 'deurgreep', 'knipsel', 'vaatwerk', 'wandarm', 'gedachtenislepel', 'kogelgiettang', 'molenbeker', 'vochtweger', 'contrazegelstempel', 'bonnet-coiffure', 'soepterrine', 'struisvogelei', 'tafelhorloge', 'kruitmaat', 'seingeweer', 'torchÃ¨re', 'slaapmuts', 'hyacintenvaas', 'kabeltouw', 'stola (liturgisch)', 'priem', 'trektafel', 'ijsbreker', 'tabakspot', 'kruiwagen', 'piano', 'reishorloge', 'pen', 'monstrans', 'snijbord', 'tabernakeldeur', 'schilderskist', 'waldhoorn', 'plengbeker', 'collier', 'kazuifel', 'egoyomi (kalenderblad)', 'raam', 'wijnvat', 'jas', 'wijzerplaat', 'geldkist', 'wijnglas', 'kussenblad', 'wapenrek', 'altaarhanger', 'tiara', 'kerkmeubel', 'olie- en azijnstel', 'mergboor', 'tweehander', 'naaigerei', 'portefeuille', 'schilderijenstandaard', 'misthoorn', 'suikertang', 'calÃ¨che', 'radslot', 'ceintuur', 'blad', 'zoutlepel', 'pistool', 'miniatuur', 'po', 'kuttrolf', 'zakpistool', 'snaphaangeweer', 'peper- en zoutstel', 'garenwinder', 'kinderledikant', 'tand', 'schaal (objectnaam)', 'scheepsbel', 'mof', 'hoeker', 'luik (object)', 'bouilloire', 'bergÃ¨re', 'sluitgewicht', 'tuitkan', 'druiventros', 'wangtafel', 'vetbak', 'toiletspiegel', 'kussenovertrek', 'tegengewicht', 'steen (objectnaam)', 'herinneringsobject', 'sjees', 'juwelenkoffer', 'schroeffles', 'transportschip', 'graftombe', 'avondmaalstel', 'tafelbel', 'enkellaars', 'gedenkteken', 'korenmaat']\n"
     ]
    }
   ],
   "source": [
    "print(unique_art_types[:100])"
   ]
  },
  {
   "cell_type": "code",
   "execution_count": null,
   "metadata": {},
   "outputs": [],
   "source": []
  }
 ],
 "metadata": {
  "kernelspec": {
   "display_name": "Python 3",
   "language": "python",
   "name": "python3"
  },
  "language_info": {
   "codemirror_mode": {
    "name": "ipython",
    "version": 3
   },
   "file_extension": ".py",
   "mimetype": "text/x-python",
   "name": "python",
   "nbconvert_exporter": "python",
   "pygments_lexer": "ipython3",
   "version": "3.6.5"
  }
 },
 "nbformat": 4,
 "nbformat_minor": 2
}
